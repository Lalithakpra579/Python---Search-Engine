{
 "cells": [
  {
   "cell_type": "code",
   "execution_count": 15,
   "id": "wireless-timeline",
   "metadata": {},
   "outputs": [],
   "source": [
    "import re"
   ]
  },
  {
   "cell_type": "code",
   "execution_count": 16,
   "id": "rational-fight",
   "metadata": {},
   "outputs": [],
   "source": [
    "fp = 'dataset/William Wymark Jacobs___Bedridden and The Winter Offensive, Deep Waters, Part 8.txt'"
   ]
  },
  {
   "cell_type": "code",
   "execution_count": 34,
   "id": "arabic-investing",
   "metadata": {},
   "outputs": [],
   "source": [
    "with open('stop_words.txt') as f:\n",
    "    stopwords = f.readlines()"
   ]
  },
  {
   "cell_type": "code",
   "execution_count": 35,
   "id": "stylish-cooper",
   "metadata": {},
   "outputs": [],
   "source": [
    "stopwords = [w.lower().strip() for w in stopwords]"
   ]
  },
  {
   "cell_type": "code",
   "execution_count": 19,
   "id": "parliamentary-appreciation",
   "metadata": {},
   "outputs": [],
   "source": [
    "with open(fp) as f:\n",
    "    data = f.read()"
   ]
  },
  {
   "cell_type": "code",
   "execution_count": 26,
   "id": "prepared-projector",
   "metadata": {},
   "outputs": [],
   "source": [
    "def clean(s: str):\n",
    "    return re.sub('[^A-Za-z0-9]+', '', s).lower()"
   ]
  },
  {
   "cell_type": "code",
   "execution_count": 62,
   "id": "tribal-aluminum",
   "metadata": {},
   "outputs": [],
   "source": [
    "def word_filter(s: str):\n",
    "    return not(s.isnumeric() or s in stopwords or len(s) == 1)"
   ]
  },
  {
   "cell_type": "code",
   "execution_count": 77,
   "id": "other-valuation",
   "metadata": {},
   "outputs": [],
   "source": [
    "def head(d: dict, n = 10):\n",
    "    return dict(sorted(d.items(), key=lambda x: x[1], reverse=True)[:n])"
   ]
  },
  {
   "cell_type": "code",
   "execution_count": 79,
   "id": "ranking-hearts",
   "metadata": {},
   "outputs": [],
   "source": [
    "def total(d: dict):\n",
    "    s = 0\n",
    "    for _, v in d.items():\n",
    "        s += v\n",
    "    return s"
   ]
  },
  {
   "cell_type": "code",
   "execution_count": 65,
   "id": "allied-while",
   "metadata": {},
   "outputs": [],
   "source": [
    "words_map = dict()\n",
    "\n",
    "words = [clean(s) for s in re.split(r'[^A-Za-z0-9]+', data) if s.strip()]\n",
    "words = list(filter(word_filter, words))\n",
    "\n",
    "for w in words:\n",
    "    if w in words_map:\n",
    "        words_map[w] = words_map[w] + 1\n",
    "    else:\n",
    "        words_map[w] = 1"
   ]
  },
  {
   "cell_type": "code",
   "execution_count": 80,
   "id": "hispanic-integer",
   "metadata": {},
   "outputs": [
    {
     "data": {
      "text/plain": [
       "1455"
      ]
     },
     "execution_count": 80,
     "metadata": {},
     "output_type": "execute_result"
    }
   ],
   "source": [
    "class TokenMeta:\n",
    "    def __init__(self, token, )"
   ]
  }
 ],
 "metadata": {
  "kernelspec": {
   "display_name": "Python 3",
   "language": "python",
   "name": "python3"
  },
  "language_info": {
   "codemirror_mode": {
    "name": "ipython",
    "version": 3
   },
   "file_extension": ".py",
   "mimetype": "text/x-python",
   "name": "python",
   "nbconvert_exporter": "python",
   "pygments_lexer": "ipython3",
   "version": "3.9.4"
  }
 },
 "nbformat": 4,
 "nbformat_minor": 5
}
