{
 "cells": [
  {
   "cell_type": "code",
   "execution_count": 1,
   "id": "prompt-geology",
   "metadata": {},
   "outputs": [],
   "source": [
    "import glob\n",
    "import random\n",
    "import os\n",
    "import shutil"
   ]
  },
  {
   "cell_type": "code",
   "execution_count": 2,
   "id": "controlling-cleanup",
   "metadata": {},
   "outputs": [],
   "source": [
    "files = list(map(os.path.basename, glob.glob(\"dataset/txt/*\")))"
   ]
  },
  {
   "cell_type": "code",
   "execution_count": 3,
   "id": "heated-basket",
   "metadata": {},
   "outputs": [],
   "source": [
    "sample_files = random.sample(files, 300)"
   ]
  },
  {
   "cell_type": "code",
   "execution_count": 6,
   "id": "disturbed-rehabilitation",
   "metadata": {},
   "outputs": [],
   "source": [
    "for i in sample_files:\n",
    "    shutil.copy(f'dataset/txt/{i}', f'dataset/final/{i}')"
   ]
  },
  {
   "cell_type": "code",
   "execution_count": null,
   "id": "successful-valuable",
   "metadata": {},
   "outputs": [],
   "source": []
  }
 ],
 "metadata": {
  "kernelspec": {
   "display_name": "Python 3",
   "language": "python",
   "name": "python3"
  },
  "language_info": {
   "codemirror_mode": {
    "name": "ipython",
    "version": 3
   },
   "file_extension": ".py",
   "mimetype": "text/x-python",
   "name": "python",
   "nbconvert_exporter": "python",
   "pygments_lexer": "ipython3",
   "version": "3.9.4"
  }
 },
 "nbformat": 4,
 "nbformat_minor": 5
}
